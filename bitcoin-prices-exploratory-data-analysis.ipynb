{
 "cells": [
  {
   "cell_type": "markdown",
   "metadata": {},
   "source": [
    " **Importing Some Important Libraries**"
   ]
  },
  {
   "cell_type": "code",
   "execution_count": 3,
   "metadata": {
    "execution": {
     "iopub.execute_input": "2023-01-03T01:20:48.318833Z",
     "iopub.status.busy": "2023-01-03T01:20:48.317973Z",
     "iopub.status.idle": "2023-01-03T01:20:50.130787Z",
     "shell.execute_reply": "2023-01-03T01:20:50.129137Z",
     "shell.execute_reply.started": "2023-01-03T01:20:48.318777Z"
    }
   },
   "outputs": [],
   "source": [
    "import pandas as pd\n",
    "import numpy as np \n",
    "import matplotlib.pyplot as plt\n",
    "import seaborn as sns\n",
    "import plotly.express as px "
   ]
  },
  {
   "cell_type": "markdown",
   "metadata": {},
   "source": [
    "**Data processing:**"
   ]
  },
  {
   "cell_type": "code",
   "execution_count": 4,
   "metadata": {
    "execution": {
     "iopub.execute_input": "2023-01-03T01:20:50.134298Z",
     "iopub.status.busy": "2023-01-03T01:20:50.133907Z",
     "iopub.status.idle": "2023-01-03T01:20:50.180107Z",
     "shell.execute_reply": "2023-01-03T01:20:50.178871Z",
     "shell.execute_reply.started": "2023-01-03T01:20:50.134266Z"
    }
   },
   "outputs": [],
   "source": [
    "df=pd.read_csv('BTC_Data_final.csv')"
   ]
  },
  {
   "cell_type": "code",
   "execution_count": 5,
   "metadata": {
    "execution": {
     "iopub.execute_input": "2023-01-03T01:20:50.182119Z",
     "iopub.status.busy": "2023-01-03T01:20:50.181741Z",
     "iopub.status.idle": "2023-01-03T01:20:50.213195Z",
     "shell.execute_reply": "2023-01-03T01:20:50.211619Z",
     "shell.execute_reply.started": "2023-01-03T01:20:50.182085Z"
    }
   },
   "outputs": [
    {
     "name": "stdout",
     "output_type": "stream",
     "text": [
      "<class 'pandas.core.frame.DataFrame'>\n",
      "RangeIndex: 3180 entries, 0 to 3179\n",
      "Data columns (total 18 columns):\n",
      " #   Column                  Non-Null Count  Dtype  \n",
      "---  ------                  --------------  -----  \n",
      " 0   Date                    3180 non-null   object \n",
      " 1   priceUSD                3180 non-null   float64\n",
      " 2   size                    3180 non-null   float64\n",
      " 3   sentbyaddress           3180 non-null   int64  \n",
      " 4   transactions            3180 non-null   int64  \n",
      " 5   mining_profitability    3180 non-null   float64\n",
      " 6   sentinusd               3180 non-null   float64\n",
      " 7   transactionfees         3180 non-null   float64\n",
      " 8   median_transaction_fee  3180 non-null   float64\n",
      " 9   confirmationtime        3180 non-null   float64\n",
      " 10  marketcap               3180 non-null   int64  \n",
      " 11  transactionvalue        3180 non-null   float64\n",
      " 12  mediantransactionvalue  3180 non-null   float64\n",
      " 13  tweets                  3180 non-null   int64  \n",
      " 14  google_trends           3180 non-null   float64\n",
      " 15  fee_to_reward           3180 non-null   float64\n",
      " 16  activeaddresses         3180 non-null   int64  \n",
      " 17  top100cap               3180 non-null   float64\n",
      "dtypes: float64(12), int64(5), object(1)\n",
      "memory usage: 447.3+ KB\n"
     ]
    }
   ],
   "source": [
    "df.info()"
   ]
  },
  {
   "cell_type": "code",
   "execution_count": 6,
   "metadata": {
    "execution": {
     "iopub.execute_input": "2023-01-03T01:20:50.217097Z",
     "iopub.status.busy": "2023-01-03T01:20:50.216328Z",
     "iopub.status.idle": "2023-01-03T01:20:50.226790Z",
     "shell.execute_reply": "2023-01-03T01:20:50.225533Z",
     "shell.execute_reply.started": "2023-01-03T01:20:50.217052Z"
    }
   },
   "outputs": [],
   "source": [
    "df['Date']=pd.to_datetime(df['Date'])"
   ]
  },
  {
   "cell_type": "code",
   "execution_count": 7,
   "metadata": {
    "execution": {
     "iopub.execute_input": "2023-01-03T01:20:50.230881Z",
     "iopub.status.busy": "2023-01-03T01:20:50.230090Z",
     "iopub.status.idle": "2023-01-03T01:20:50.238822Z",
     "shell.execute_reply": "2023-01-03T01:20:50.237400Z",
     "shell.execute_reply.started": "2023-01-03T01:20:50.230835Z"
    }
   },
   "outputs": [],
   "source": [
    "plt.style.use('seaborn-dark')"
   ]
  },
  {
   "cell_type": "code",
   "execution_count": 8,
   "metadata": {
    "execution": {
     "iopub.execute_input": "2023-01-03T01:20:50.241716Z",
     "iopub.status.busy": "2023-01-03T01:20:50.240541Z",
     "iopub.status.idle": "2023-01-03T01:20:50.248327Z",
     "shell.execute_reply": "2023-01-03T01:20:50.246991Z",
     "shell.execute_reply.started": "2023-01-03T01:20:50.241681Z"
    }
   },
   "outputs": [],
   "source": [
    "plt.style.use('seaborn-dark-palette')"
   ]
  },
  {
   "cell_type": "markdown",
   "metadata": {},
   "source": [
    "**Feature Engineering**"
   ]
  },
  {
   "cell_type": "code",
   "execution_count": 9,
   "metadata": {},
   "outputs": [],
   "source": [
    "from pandas_profiling import ProfileReport"
   ]
  },
  {
   "cell_type": "code",
   "execution_count": 10,
   "metadata": {},
   "outputs": [],
   "source": [
    "profile = ProfileReport(df, title=\"Pandas Profiling Report\")"
   ]
  },
  {
   "cell_type": "code",
   "execution_count": 11,
   "metadata": {},
   "outputs": [
    {
     "data": {
      "application/vnd.jupyter.widget-view+json": {
       "model_id": "c3777ad1c20948688dccd1ec6dd16ade",
       "version_major": 2,
       "version_minor": 0
      },
      "text/plain": [
       "Summarize dataset:   0%|          | 0/5 [00:00<?, ?it/s]"
      ]
     },
     "metadata": {},
     "output_type": "display_data"
    },
    {
     "data": {
      "application/vnd.jupyter.widget-view+json": {
       "model_id": "68968b8322184e8d8cc6d0ad7c117d78",
       "version_major": 2,
       "version_minor": 0
      },
      "text/plain": [
       "Generate report structure:   0%|          | 0/1 [00:00<?, ?it/s]"
      ]
     },
     "metadata": {},
     "output_type": "display_data"
    },
    {
     "data": {
      "application/vnd.jupyter.widget-view+json": {
       "model_id": "",
       "version_major": 2,
       "version_minor": 0
      },
      "text/plain": [
       "Render widgets:   0%|          | 0/1 [00:00<?, ?it/s]"
      ]
     },
     "metadata": {},
     "output_type": "display_data"
    },
    {
     "data": {
      "application/vnd.jupyter.widget-view+json": {
       "model_id": "9ce7c45a437b452e9f28826e2d821242",
       "version_major": 2,
       "version_minor": 0
      },
      "text/plain": [
       "VBox(children=(Tab(children=(Tab(children=(GridBox(children=(VBox(children=(GridspecLayout(children=(HTML(valu…"
      ]
     },
     "metadata": {},
     "output_type": "display_data"
    }
   ],
   "source": [
    "profile.to_widgets()"
   ]
  },
  {
   "cell_type": "markdown",
   "metadata": {},
   "source": [
    "**Exploratory data analysis:**"
   ]
  },
  {
   "cell_type": "code",
   "execution_count": 12,
   "metadata": {
    "execution": {
     "iopub.execute_input": "2023-01-03T01:20:50.250246Z",
     "iopub.status.busy": "2023-01-03T01:20:50.249818Z",
     "iopub.status.idle": "2023-01-03T01:20:50.627758Z",
     "shell.execute_reply": "2023-01-03T01:20:50.626490Z",
     "shell.execute_reply.started": "2023-01-03T01:20:50.250215Z"
    }
   },
   "outputs": [
    {
     "data": {
      "text/plain": [
       "<AxesSubplot:title={'center':'Bitcoin price over the years'}, xlabel='Date'>"
      ]
     },
     "execution_count": 12,
     "metadata": {},
     "output_type": "execute_result"
    }
   ],
   "source": [
    "df.plot(x='Date',y='priceUSD',kind='line',figsize=(12,8),lw=2.5,title='Bitcoin price over the years')"
   ]
  },
  {
   "cell_type": "code",
   "execution_count": 13,
   "metadata": {
    "execution": {
     "iopub.execute_input": "2023-01-03T01:20:50.630927Z",
     "iopub.status.busy": "2023-01-03T01:20:50.629537Z",
     "iopub.status.idle": "2023-01-03T01:20:50.926129Z",
     "shell.execute_reply": "2023-01-03T01:20:50.924751Z",
     "shell.execute_reply.started": "2023-01-03T01:20:50.630880Z"
    }
   },
   "outputs": [
    {
     "data": {
      "text/plain": [
       "<AxesSubplot:title={'center':'Mining profitability over the years'}, xlabel='Date'>"
      ]
     },
     "execution_count": 13,
     "metadata": {},
     "output_type": "execute_result"
    }
   ],
   "source": [
    "btcm=pd.pivot_table(df,index=df['Date'].dt.year,values='mining_profitability',aggfunc='mean')\n",
    "btcm=btcm.sort_values(by='Date', ascending=True)\n",
    "btcm=btcm.head(10)\n",
    "btcm.plot(kind='line',lw=3.5,figsize=(12,8),title='Mining profitability over the years')"
   ]
  },
  {
   "cell_type": "code",
   "execution_count": 14,
   "metadata": {
    "execution": {
     "iopub.execute_input": "2023-01-03T01:20:50.928747Z",
     "iopub.status.busy": "2023-01-03T01:20:50.928268Z",
     "iopub.status.idle": "2023-01-03T01:20:51.213239Z",
     "shell.execute_reply": "2023-01-03T01:20:51.212033Z",
     "shell.execute_reply.started": "2023-01-03T01:20:50.928700Z"
    }
   },
   "outputs": [
    {
     "data": {
      "text/plain": [
       "<AxesSubplot:title={'center':'Market size'}, xlabel='Date'>"
      ]
     },
     "execution_count": 14,
     "metadata": {},
     "output_type": "execute_result"
    }
   ],
   "source": [
    "mnth=pd.pivot_table(df,index=[df['Date'].dt.year], values='size',aggfunc='mean')\n",
    "mnth=mnth.sort_values(by='Date',ascending=True)\n",
    "mnth.plot(kind='area',figsize=(12,8),title='Market size',)"
   ]
  },
  {
   "cell_type": "code",
   "execution_count": 15,
   "metadata": {
    "execution": {
     "iopub.execute_input": "2023-01-03T01:20:51.217372Z",
     "iopub.status.busy": "2023-01-03T01:20:51.216924Z",
     "iopub.status.idle": "2023-01-03T01:20:51.508918Z",
     "shell.execute_reply": "2023-01-03T01:20:51.507700Z",
     "shell.execute_reply.started": "2023-01-03T01:20:51.217337Z"
    }
   },
   "outputs": [
    {
     "data": {
      "text/plain": [
       "<AxesSubplot:title={'center':'Average transaction value over the years'}, xlabel='Date'>"
      ]
     },
     "execution_count": 15,
     "metadata": {},
     "output_type": "execute_result"
    }
   ],
   "source": [
    "btcm1=pd.pivot_table(df,index=df['Date'].dt.year,values='transactionvalue',aggfunc='mean')\n",
    "btcm1=btcm1.sort_values(by='Date', ascending=True)\n",
    "btcm1=btcm1.head(10)\n",
    "btcm1.plot(kind='line',lw=3.5,figsize=(12,8),title='Average transaction value over the years')"
   ]
  },
  {
   "cell_type": "code",
   "execution_count": 16,
   "metadata": {
    "execution": {
     "iopub.execute_input": "2023-01-03T01:20:51.510702Z",
     "iopub.status.busy": "2023-01-03T01:20:51.510346Z",
     "iopub.status.idle": "2023-01-03T01:20:52.037749Z",
     "shell.execute_reply": "2023-01-03T01:20:52.036379Z",
     "shell.execute_reply.started": "2023-01-03T01:20:51.510669Z"
    }
   },
   "outputs": [
    {
     "data": {
      "text/plain": [
       "<AxesSubplot:title={'center':'Bitcoin Marketcap'}, xlabel='Date'>"
      ]
     },
     "execution_count": 16,
     "metadata": {},
     "output_type": "execute_result"
    }
   ],
   "source": [
    "df.plot(x='Date',y=['marketcap'],kind='area',lw=1.5,figsize=(14,8),title='Bitcoin Marketcap')"
   ]
  },
  {
   "cell_type": "code",
   "execution_count": 17,
   "metadata": {
    "execution": {
     "iopub.execute_input": "2023-01-03T01:20:52.039854Z",
     "iopub.status.busy": "2023-01-03T01:20:52.039409Z",
     "iopub.status.idle": "2023-01-03T01:20:52.394426Z",
     "shell.execute_reply": "2023-01-03T01:20:52.393046Z",
     "shell.execute_reply.started": "2023-01-03T01:20:52.039810Z"
    }
   },
   "outputs": [
    {
     "data": {
      "text/plain": [
       "<AxesSubplot:title={'center':'Date/confirmation time correlation'}, xlabel='Date', ylabel='[confirmationtime]'>"
      ]
     },
     "execution_count": 17,
     "metadata": {},
     "output_type": "execute_result"
    }
   ],
   "source": [
    "df.plot(x='Date',y=['confirmationtime'],kind='scatter',lw=1.5,figsize=(12,8),title='Date/confirmation time correlation')"
   ]
  },
  {
   "cell_type": "code",
   "execution_count": 18,
   "metadata": {
    "execution": {
     "iopub.execute_input": "2023-01-03T01:20:52.397611Z",
     "iopub.status.busy": "2023-01-03T01:20:52.396712Z",
     "iopub.status.idle": "2023-01-03T01:20:52.681641Z",
     "shell.execute_reply": "2023-01-03T01:20:52.680532Z",
     "shell.execute_reply.started": "2023-01-03T01:20:52.397552Z"
    }
   },
   "outputs": [
    {
     "data": {
      "text/plain": [
       "<AxesSubplot:title={'center':'Marketcap / Price correlation'}, xlabel='marketcap', ylabel='priceUSD'>"
      ]
     },
     "execution_count": 18,
     "metadata": {},
     "output_type": "execute_result"
    }
   ],
   "source": [
    "df.plot(x='marketcap',y='priceUSD',kind='scatter',lw=1.5,figsize=(12,8),title='Marketcap / Price correlation')"
   ]
  },
  {
   "cell_type": "code",
   "execution_count": 19,
   "metadata": {
    "execution": {
     "iopub.execute_input": "2023-01-03T01:20:52.683349Z",
     "iopub.status.busy": "2023-01-03T01:20:52.683024Z",
     "iopub.status.idle": "2023-01-03T01:20:52.968287Z",
     "shell.execute_reply": "2023-01-03T01:20:52.966860Z",
     "shell.execute_reply.started": "2023-01-03T01:20:52.683318Z"
    }
   },
   "outputs": [
    {
     "data": {
      "text/plain": [
       "<AxesSubplot:title={'center':'Correlation between active adress and BTC sent'}, xlabel='sentbyaddress', ylabel='activeaddresses'>"
      ]
     },
     "execution_count": 19,
     "metadata": {},
     "output_type": "execute_result"
    }
   ],
   "source": [
    "df.plot(x='sentbyaddress',y='activeaddresses',kind='scatter',lw=1.5,figsize=(12,8),title='Correlation between active adress and BTC sent')"
   ]
  },
  {
   "cell_type": "code",
   "execution_count": 20,
   "metadata": {
    "execution": {
     "iopub.execute_input": "2023-01-03T01:20:52.970185Z",
     "iopub.status.busy": "2023-01-03T01:20:52.969811Z",
     "iopub.status.idle": "2023-01-03T01:20:53.012100Z",
     "shell.execute_reply": "2023-01-03T01:20:53.010020Z",
     "shell.execute_reply.started": "2023-01-03T01:20:52.970154Z"
    }
   },
   "outputs": [
    {
     "data": {
      "text/html": [
       "<div>\n",
       "<style scoped>\n",
       "    .dataframe tbody tr th:only-of-type {\n",
       "        vertical-align: middle;\n",
       "    }\n",
       "\n",
       "    .dataframe tbody tr th {\n",
       "        vertical-align: top;\n",
       "    }\n",
       "\n",
       "    .dataframe thead th {\n",
       "        text-align: right;\n",
       "    }\n",
       "</style>\n",
       "<table border=\"1\" class=\"dataframe\">\n",
       "  <thead>\n",
       "    <tr style=\"text-align: right;\">\n",
       "      <th></th>\n",
       "      <th>priceUSD</th>\n",
       "      <th>size</th>\n",
       "      <th>sentbyaddress</th>\n",
       "      <th>transactions</th>\n",
       "      <th>mining_profitability</th>\n",
       "      <th>sentinusd</th>\n",
       "      <th>transactionfees</th>\n",
       "      <th>median_transaction_fee</th>\n",
       "      <th>confirmationtime</th>\n",
       "      <th>marketcap</th>\n",
       "      <th>transactionvalue</th>\n",
       "      <th>mediantransactionvalue</th>\n",
       "      <th>tweets</th>\n",
       "      <th>google_trends</th>\n",
       "      <th>fee_to_reward</th>\n",
       "      <th>activeaddresses</th>\n",
       "      <th>top100cap</th>\n",
       "    </tr>\n",
       "  </thead>\n",
       "  <tbody>\n",
       "    <tr>\n",
       "      <th>priceUSD</th>\n",
       "      <td>1.000000</td>\n",
       "      <td>0.147141</td>\n",
       "      <td>0.589577</td>\n",
       "      <td>0.312164</td>\n",
       "      <td>-0.237205</td>\n",
       "      <td>0.624431</td>\n",
       "      <td>0.460870</td>\n",
       "      <td>0.376900</td>\n",
       "      <td>0.102327</td>\n",
       "      <td>0.999778</td>\n",
       "      <td>0.822821</td>\n",
       "      <td>0.480928</td>\n",
       "      <td>0.783683</td>\n",
       "      <td>0.646512</td>\n",
       "      <td>0.120889</td>\n",
       "      <td>0.665413</td>\n",
       "      <td>-0.596287</td>\n",
       "    </tr>\n",
       "    <tr>\n",
       "      <th>size</th>\n",
       "      <td>0.147141</td>\n",
       "      <td>1.000000</td>\n",
       "      <td>0.700159</td>\n",
       "      <td>0.805315</td>\n",
       "      <td>-0.565854</td>\n",
       "      <td>0.096495</td>\n",
       "      <td>0.353094</td>\n",
       "      <td>0.363810</td>\n",
       "      <td>0.229891</td>\n",
       "      <td>0.139512</td>\n",
       "      <td>0.020877</td>\n",
       "      <td>0.364301</td>\n",
       "      <td>0.104302</td>\n",
       "      <td>0.381499</td>\n",
       "      <td>0.612873</td>\n",
       "      <td>0.654849</td>\n",
       "      <td>-0.436668</td>\n",
       "    </tr>\n",
       "    <tr>\n",
       "      <th>sentbyaddress</th>\n",
       "      <td>0.589577</td>\n",
       "      <td>0.700159</td>\n",
       "      <td>1.000000</td>\n",
       "      <td>0.882427</td>\n",
       "      <td>-0.541474</td>\n",
       "      <td>0.454815</td>\n",
       "      <td>0.390353</td>\n",
       "      <td>0.375807</td>\n",
       "      <td>0.049173</td>\n",
       "      <td>0.586954</td>\n",
       "      <td>0.436387</td>\n",
       "      <td>0.509648</td>\n",
       "      <td>0.525237</td>\n",
       "      <td>0.541979</td>\n",
       "      <td>0.462407</td>\n",
       "      <td>0.931827</td>\n",
       "      <td>-0.764684</td>\n",
       "    </tr>\n",
       "    <tr>\n",
       "      <th>transactions</th>\n",
       "      <td>0.312164</td>\n",
       "      <td>0.805315</td>\n",
       "      <td>0.882427</td>\n",
       "      <td>1.000000</td>\n",
       "      <td>-0.556822</td>\n",
       "      <td>0.227009</td>\n",
       "      <td>0.288133</td>\n",
       "      <td>0.297366</td>\n",
       "      <td>-0.009010</td>\n",
       "      <td>0.306303</td>\n",
       "      <td>0.175345</td>\n",
       "      <td>0.359071</td>\n",
       "      <td>0.199492</td>\n",
       "      <td>0.412413</td>\n",
       "      <td>0.447683</td>\n",
       "      <td>0.796894</td>\n",
       "      <td>-0.695278</td>\n",
       "    </tr>\n",
       "    <tr>\n",
       "      <th>mining_profitability</th>\n",
       "      <td>-0.237205</td>\n",
       "      <td>-0.565854</td>\n",
       "      <td>-0.541474</td>\n",
       "      <td>-0.556822</td>\n",
       "      <td>1.000000</td>\n",
       "      <td>-0.161788</td>\n",
       "      <td>-0.099355</td>\n",
       "      <td>-0.082051</td>\n",
       "      <td>-0.190414</td>\n",
       "      <td>-0.235916</td>\n",
       "      <td>-0.165800</td>\n",
       "      <td>-0.162429</td>\n",
       "      <td>-0.210821</td>\n",
       "      <td>-0.196332</td>\n",
       "      <td>-0.162855</td>\n",
       "      <td>-0.485506</td>\n",
       "      <td>0.336263</td>\n",
       "    </tr>\n",
       "    <tr>\n",
       "      <th>sentinusd</th>\n",
       "      <td>0.624431</td>\n",
       "      <td>0.096495</td>\n",
       "      <td>0.454815</td>\n",
       "      <td>0.227009</td>\n",
       "      <td>-0.161788</td>\n",
       "      <td>1.000000</td>\n",
       "      <td>0.250652</td>\n",
       "      <td>0.207690</td>\n",
       "      <td>0.063630</td>\n",
       "      <td>0.626739</td>\n",
       "      <td>0.782153</td>\n",
       "      <td>0.353630</td>\n",
       "      <td>0.665670</td>\n",
       "      <td>0.428517</td>\n",
       "      <td>0.065151</td>\n",
       "      <td>0.475118</td>\n",
       "      <td>-0.362876</td>\n",
       "    </tr>\n",
       "    <tr>\n",
       "      <th>transactionfees</th>\n",
       "      <td>0.460870</td>\n",
       "      <td>0.353094</td>\n",
       "      <td>0.390353</td>\n",
       "      <td>0.288133</td>\n",
       "      <td>-0.099355</td>\n",
       "      <td>0.250652</td>\n",
       "      <td>1.000000</td>\n",
       "      <td>0.986420</td>\n",
       "      <td>0.110562</td>\n",
       "      <td>0.449174</td>\n",
       "      <td>0.191596</td>\n",
       "      <td>0.773906</td>\n",
       "      <td>0.325253</td>\n",
       "      <td>0.746109</td>\n",
       "      <td>0.729848</td>\n",
       "      <td>0.474793</td>\n",
       "      <td>-0.293572</td>\n",
       "    </tr>\n",
       "    <tr>\n",
       "      <th>median_transaction_fee</th>\n",
       "      <td>0.376900</td>\n",
       "      <td>0.363810</td>\n",
       "      <td>0.375807</td>\n",
       "      <td>0.297366</td>\n",
       "      <td>-0.082051</td>\n",
       "      <td>0.207690</td>\n",
       "      <td>0.986420</td>\n",
       "      <td>1.000000</td>\n",
       "      <td>0.098334</td>\n",
       "      <td>0.364642</td>\n",
       "      <td>0.127466</td>\n",
       "      <td>0.786128</td>\n",
       "      <td>0.273459</td>\n",
       "      <td>0.729825</td>\n",
       "      <td>0.771016</td>\n",
       "      <td>0.444030</td>\n",
       "      <td>-0.261856</td>\n",
       "    </tr>\n",
       "    <tr>\n",
       "      <th>confirmationtime</th>\n",
       "      <td>0.102327</td>\n",
       "      <td>0.229891</td>\n",
       "      <td>0.049173</td>\n",
       "      <td>-0.009010</td>\n",
       "      <td>-0.190414</td>\n",
       "      <td>0.063630</td>\n",
       "      <td>0.110562</td>\n",
       "      <td>0.098334</td>\n",
       "      <td>1.000000</td>\n",
       "      <td>0.103860</td>\n",
       "      <td>0.070944</td>\n",
       "      <td>0.064350</td>\n",
       "      <td>0.113621</td>\n",
       "      <td>0.078290</td>\n",
       "      <td>0.150506</td>\n",
       "      <td>0.022941</td>\n",
       "      <td>-0.128568</td>\n",
       "    </tr>\n",
       "    <tr>\n",
       "      <th>marketcap</th>\n",
       "      <td>0.999778</td>\n",
       "      <td>0.139512</td>\n",
       "      <td>0.586954</td>\n",
       "      <td>0.306303</td>\n",
       "      <td>-0.235916</td>\n",
       "      <td>0.626739</td>\n",
       "      <td>0.449174</td>\n",
       "      <td>0.364642</td>\n",
       "      <td>0.103860</td>\n",
       "      <td>1.000000</td>\n",
       "      <td>0.826631</td>\n",
       "      <td>0.468944</td>\n",
       "      <td>0.786806</td>\n",
       "      <td>0.635403</td>\n",
       "      <td>0.110449</td>\n",
       "      <td>0.660903</td>\n",
       "      <td>-0.595063</td>\n",
       "    </tr>\n",
       "    <tr>\n",
       "      <th>transactionvalue</th>\n",
       "      <td>0.822821</td>\n",
       "      <td>0.020877</td>\n",
       "      <td>0.436387</td>\n",
       "      <td>0.175345</td>\n",
       "      <td>-0.165800</td>\n",
       "      <td>0.782153</td>\n",
       "      <td>0.191596</td>\n",
       "      <td>0.127466</td>\n",
       "      <td>0.070944</td>\n",
       "      <td>0.826631</td>\n",
       "      <td>1.000000</td>\n",
       "      <td>0.327140</td>\n",
       "      <td>0.760788</td>\n",
       "      <td>0.455706</td>\n",
       "      <td>-0.031869</td>\n",
       "      <td>0.472549</td>\n",
       "      <td>-0.411581</td>\n",
       "    </tr>\n",
       "    <tr>\n",
       "      <th>mediantransactionvalue</th>\n",
       "      <td>0.480928</td>\n",
       "      <td>0.364301</td>\n",
       "      <td>0.509648</td>\n",
       "      <td>0.359071</td>\n",
       "      <td>-0.162429</td>\n",
       "      <td>0.353630</td>\n",
       "      <td>0.773906</td>\n",
       "      <td>0.786128</td>\n",
       "      <td>0.064350</td>\n",
       "      <td>0.468944</td>\n",
       "      <td>0.327140</td>\n",
       "      <td>1.000000</td>\n",
       "      <td>0.464917</td>\n",
       "      <td>0.759805</td>\n",
       "      <td>0.623339</td>\n",
       "      <td>0.570512</td>\n",
       "      <td>-0.324894</td>\n",
       "    </tr>\n",
       "    <tr>\n",
       "      <th>tweets</th>\n",
       "      <td>0.783683</td>\n",
       "      <td>0.104302</td>\n",
       "      <td>0.525237</td>\n",
       "      <td>0.199492</td>\n",
       "      <td>-0.210821</td>\n",
       "      <td>0.665670</td>\n",
       "      <td>0.325253</td>\n",
       "      <td>0.273459</td>\n",
       "      <td>0.113621</td>\n",
       "      <td>0.786806</td>\n",
       "      <td>0.760788</td>\n",
       "      <td>0.464917</td>\n",
       "      <td>1.000000</td>\n",
       "      <td>0.595444</td>\n",
       "      <td>0.106361</td>\n",
       "      <td>0.556183</td>\n",
       "      <td>-0.407701</td>\n",
       "    </tr>\n",
       "    <tr>\n",
       "      <th>google_trends</th>\n",
       "      <td>0.646512</td>\n",
       "      <td>0.381499</td>\n",
       "      <td>0.541979</td>\n",
       "      <td>0.412413</td>\n",
       "      <td>-0.196332</td>\n",
       "      <td>0.428517</td>\n",
       "      <td>0.746109</td>\n",
       "      <td>0.729825</td>\n",
       "      <td>0.078290</td>\n",
       "      <td>0.635403</td>\n",
       "      <td>0.455706</td>\n",
       "      <td>0.759805</td>\n",
       "      <td>0.595444</td>\n",
       "      <td>1.000000</td>\n",
       "      <td>0.531274</td>\n",
       "      <td>0.627028</td>\n",
       "      <td>-0.454690</td>\n",
       "    </tr>\n",
       "    <tr>\n",
       "      <th>fee_to_reward</th>\n",
       "      <td>0.120889</td>\n",
       "      <td>0.612873</td>\n",
       "      <td>0.462407</td>\n",
       "      <td>0.447683</td>\n",
       "      <td>-0.162855</td>\n",
       "      <td>0.065151</td>\n",
       "      <td>0.729848</td>\n",
       "      <td>0.771016</td>\n",
       "      <td>0.150506</td>\n",
       "      <td>0.110449</td>\n",
       "      <td>-0.031869</td>\n",
       "      <td>0.623339</td>\n",
       "      <td>0.106361</td>\n",
       "      <td>0.531274</td>\n",
       "      <td>1.000000</td>\n",
       "      <td>0.448618</td>\n",
       "      <td>-0.266057</td>\n",
       "    </tr>\n",
       "    <tr>\n",
       "      <th>activeaddresses</th>\n",
       "      <td>0.665413</td>\n",
       "      <td>0.654849</td>\n",
       "      <td>0.931827</td>\n",
       "      <td>0.796894</td>\n",
       "      <td>-0.485506</td>\n",
       "      <td>0.475118</td>\n",
       "      <td>0.474793</td>\n",
       "      <td>0.444030</td>\n",
       "      <td>0.022941</td>\n",
       "      <td>0.660903</td>\n",
       "      <td>0.472549</td>\n",
       "      <td>0.570512</td>\n",
       "      <td>0.556183</td>\n",
       "      <td>0.627028</td>\n",
       "      <td>0.448618</td>\n",
       "      <td>1.000000</td>\n",
       "      <td>-0.734945</td>\n",
       "    </tr>\n",
       "    <tr>\n",
       "      <th>top100cap</th>\n",
       "      <td>-0.596287</td>\n",
       "      <td>-0.436668</td>\n",
       "      <td>-0.764684</td>\n",
       "      <td>-0.695278</td>\n",
       "      <td>0.336263</td>\n",
       "      <td>-0.362876</td>\n",
       "      <td>-0.293572</td>\n",
       "      <td>-0.261856</td>\n",
       "      <td>-0.128568</td>\n",
       "      <td>-0.595063</td>\n",
       "      <td>-0.411581</td>\n",
       "      <td>-0.324894</td>\n",
       "      <td>-0.407701</td>\n",
       "      <td>-0.454690</td>\n",
       "      <td>-0.266057</td>\n",
       "      <td>-0.734945</td>\n",
       "      <td>1.000000</td>\n",
       "    </tr>\n",
       "  </tbody>\n",
       "</table>\n",
       "</div>"
      ],
      "text/plain": [
       "                        priceUSD      size  sentbyaddress  transactions  \\\n",
       "priceUSD                1.000000  0.147141       0.589577      0.312164   \n",
       "size                    0.147141  1.000000       0.700159      0.805315   \n",
       "sentbyaddress           0.589577  0.700159       1.000000      0.882427   \n",
       "transactions            0.312164  0.805315       0.882427      1.000000   \n",
       "mining_profitability   -0.237205 -0.565854      -0.541474     -0.556822   \n",
       "sentinusd               0.624431  0.096495       0.454815      0.227009   \n",
       "transactionfees         0.460870  0.353094       0.390353      0.288133   \n",
       "median_transaction_fee  0.376900  0.363810       0.375807      0.297366   \n",
       "confirmationtime        0.102327  0.229891       0.049173     -0.009010   \n",
       "marketcap               0.999778  0.139512       0.586954      0.306303   \n",
       "transactionvalue        0.822821  0.020877       0.436387      0.175345   \n",
       "mediantransactionvalue  0.480928  0.364301       0.509648      0.359071   \n",
       "tweets                  0.783683  0.104302       0.525237      0.199492   \n",
       "google_trends           0.646512  0.381499       0.541979      0.412413   \n",
       "fee_to_reward           0.120889  0.612873       0.462407      0.447683   \n",
       "activeaddresses         0.665413  0.654849       0.931827      0.796894   \n",
       "top100cap              -0.596287 -0.436668      -0.764684     -0.695278   \n",
       "\n",
       "                        mining_profitability  sentinusd  transactionfees  \\\n",
       "priceUSD                           -0.237205   0.624431         0.460870   \n",
       "size                               -0.565854   0.096495         0.353094   \n",
       "sentbyaddress                      -0.541474   0.454815         0.390353   \n",
       "transactions                       -0.556822   0.227009         0.288133   \n",
       "mining_profitability                1.000000  -0.161788        -0.099355   \n",
       "sentinusd                          -0.161788   1.000000         0.250652   \n",
       "transactionfees                    -0.099355   0.250652         1.000000   \n",
       "median_transaction_fee             -0.082051   0.207690         0.986420   \n",
       "confirmationtime                   -0.190414   0.063630         0.110562   \n",
       "marketcap                          -0.235916   0.626739         0.449174   \n",
       "transactionvalue                   -0.165800   0.782153         0.191596   \n",
       "mediantransactionvalue             -0.162429   0.353630         0.773906   \n",
       "tweets                             -0.210821   0.665670         0.325253   \n",
       "google_trends                      -0.196332   0.428517         0.746109   \n",
       "fee_to_reward                      -0.162855   0.065151         0.729848   \n",
       "activeaddresses                    -0.485506   0.475118         0.474793   \n",
       "top100cap                           0.336263  -0.362876        -0.293572   \n",
       "\n",
       "                        median_transaction_fee  confirmationtime  marketcap  \\\n",
       "priceUSD                              0.376900          0.102327   0.999778   \n",
       "size                                  0.363810          0.229891   0.139512   \n",
       "sentbyaddress                         0.375807          0.049173   0.586954   \n",
       "transactions                          0.297366         -0.009010   0.306303   \n",
       "mining_profitability                 -0.082051         -0.190414  -0.235916   \n",
       "sentinusd                             0.207690          0.063630   0.626739   \n",
       "transactionfees                       0.986420          0.110562   0.449174   \n",
       "median_transaction_fee                1.000000          0.098334   0.364642   \n",
       "confirmationtime                      0.098334          1.000000   0.103860   \n",
       "marketcap                             0.364642          0.103860   1.000000   \n",
       "transactionvalue                      0.127466          0.070944   0.826631   \n",
       "mediantransactionvalue                0.786128          0.064350   0.468944   \n",
       "tweets                                0.273459          0.113621   0.786806   \n",
       "google_trends                         0.729825          0.078290   0.635403   \n",
       "fee_to_reward                         0.771016          0.150506   0.110449   \n",
       "activeaddresses                       0.444030          0.022941   0.660903   \n",
       "top100cap                            -0.261856         -0.128568  -0.595063   \n",
       "\n",
       "                        transactionvalue  mediantransactionvalue    tweets  \\\n",
       "priceUSD                        0.822821                0.480928  0.783683   \n",
       "size                            0.020877                0.364301  0.104302   \n",
       "sentbyaddress                   0.436387                0.509648  0.525237   \n",
       "transactions                    0.175345                0.359071  0.199492   \n",
       "mining_profitability           -0.165800               -0.162429 -0.210821   \n",
       "sentinusd                       0.782153                0.353630  0.665670   \n",
       "transactionfees                 0.191596                0.773906  0.325253   \n",
       "median_transaction_fee          0.127466                0.786128  0.273459   \n",
       "confirmationtime                0.070944                0.064350  0.113621   \n",
       "marketcap                       0.826631                0.468944  0.786806   \n",
       "transactionvalue                1.000000                0.327140  0.760788   \n",
       "mediantransactionvalue          0.327140                1.000000  0.464917   \n",
       "tweets                          0.760788                0.464917  1.000000   \n",
       "google_trends                   0.455706                0.759805  0.595444   \n",
       "fee_to_reward                  -0.031869                0.623339  0.106361   \n",
       "activeaddresses                 0.472549                0.570512  0.556183   \n",
       "top100cap                      -0.411581               -0.324894 -0.407701   \n",
       "\n",
       "                        google_trends  fee_to_reward  activeaddresses  \\\n",
       "priceUSD                     0.646512       0.120889         0.665413   \n",
       "size                         0.381499       0.612873         0.654849   \n",
       "sentbyaddress                0.541979       0.462407         0.931827   \n",
       "transactions                 0.412413       0.447683         0.796894   \n",
       "mining_profitability        -0.196332      -0.162855        -0.485506   \n",
       "sentinusd                    0.428517       0.065151         0.475118   \n",
       "transactionfees              0.746109       0.729848         0.474793   \n",
       "median_transaction_fee       0.729825       0.771016         0.444030   \n",
       "confirmationtime             0.078290       0.150506         0.022941   \n",
       "marketcap                    0.635403       0.110449         0.660903   \n",
       "transactionvalue             0.455706      -0.031869         0.472549   \n",
       "mediantransactionvalue       0.759805       0.623339         0.570512   \n",
       "tweets                       0.595444       0.106361         0.556183   \n",
       "google_trends                1.000000       0.531274         0.627028   \n",
       "fee_to_reward                0.531274       1.000000         0.448618   \n",
       "activeaddresses              0.627028       0.448618         1.000000   \n",
       "top100cap                   -0.454690      -0.266057        -0.734945   \n",
       "\n",
       "                        top100cap  \n",
       "priceUSD                -0.596287  \n",
       "size                    -0.436668  \n",
       "sentbyaddress           -0.764684  \n",
       "transactions            -0.695278  \n",
       "mining_profitability     0.336263  \n",
       "sentinusd               -0.362876  \n",
       "transactionfees         -0.293572  \n",
       "median_transaction_fee  -0.261856  \n",
       "confirmationtime        -0.128568  \n",
       "marketcap               -0.595063  \n",
       "transactionvalue        -0.411581  \n",
       "mediantransactionvalue  -0.324894  \n",
       "tweets                  -0.407701  \n",
       "google_trends           -0.454690  \n",
       "fee_to_reward           -0.266057  \n",
       "activeaddresses         -0.734945  \n",
       "top100cap                1.000000  "
      ]
     },
     "execution_count": 20,
     "metadata": {},
     "output_type": "execute_result"
    }
   ],
   "source": [
    "df.corr()"
   ]
  },
  {
   "cell_type": "code",
   "execution_count": 21,
   "metadata": {
    "execution": {
     "iopub.execute_input": "2023-01-03T01:20:53.014244Z",
     "iopub.status.busy": "2023-01-03T01:20:53.013857Z",
     "iopub.status.idle": "2023-01-03T01:20:53.037826Z",
     "shell.execute_reply": "2023-01-03T01:20:53.036561Z",
     "shell.execute_reply.started": "2023-01-03T01:20:53.014210Z"
    }
   },
   "outputs": [
    {
     "data": {
      "text/html": [
       "<div>\n",
       "<style scoped>\n",
       "    .dataframe tbody tr th:only-of-type {\n",
       "        vertical-align: middle;\n",
       "    }\n",
       "\n",
       "    .dataframe tbody tr th {\n",
       "        vertical-align: top;\n",
       "    }\n",
       "\n",
       "    .dataframe thead th {\n",
       "        text-align: right;\n",
       "    }\n",
       "</style>\n",
       "<table border=\"1\" class=\"dataframe\">\n",
       "  <thead>\n",
       "    <tr style=\"text-align: right;\">\n",
       "      <th></th>\n",
       "      <th>priceUSD</th>\n",
       "    </tr>\n",
       "    <tr>\n",
       "      <th>Date</th>\n",
       "      <th></th>\n",
       "    </tr>\n",
       "  </thead>\n",
       "  <tbody>\n",
       "    <tr>\n",
       "      <th>2014</th>\n",
       "      <td>664.422</td>\n",
       "    </tr>\n",
       "    <tr>\n",
       "      <th>2015</th>\n",
       "      <td>462.587</td>\n",
       "    </tr>\n",
       "    <tr>\n",
       "      <th>2016</th>\n",
       "      <td>965.624</td>\n",
       "    </tr>\n",
       "    <tr>\n",
       "      <th>2017</th>\n",
       "      <td>19401.000</td>\n",
       "    </tr>\n",
       "    <tr>\n",
       "      <th>2018</th>\n",
       "      <td>16784.000</td>\n",
       "    </tr>\n",
       "    <tr>\n",
       "      <th>2019</th>\n",
       "      <td>12668.000</td>\n",
       "    </tr>\n",
       "    <tr>\n",
       "      <th>2020</th>\n",
       "      <td>28876.000</td>\n",
       "    </tr>\n",
       "    <tr>\n",
       "      <th>2021</th>\n",
       "      <td>67547.000</td>\n",
       "    </tr>\n",
       "    <tr>\n",
       "      <th>2022</th>\n",
       "      <td>47546.000</td>\n",
       "    </tr>\n",
       "  </tbody>\n",
       "</table>\n",
       "</div>"
      ],
      "text/plain": [
       "       priceUSD\n",
       "Date           \n",
       "2014    664.422\n",
       "2015    462.587\n",
       "2016    965.624\n",
       "2017  19401.000\n",
       "2018  16784.000\n",
       "2019  12668.000\n",
       "2020  28876.000\n",
       "2021  67547.000\n",
       "2022  47546.000"
      ]
     },
     "execution_count": 21,
     "metadata": {},
     "output_type": "execute_result"
    }
   ],
   "source": [
    "prr=pd.pivot_table(df,index=df['Date'].dt.year,values='priceUSD',aggfunc='max')\n",
    "prr=prr.sort_values(by='Date', ascending=True)\n",
    "prr=prr.head(10)\n",
    "prr"
   ]
  },
  {
   "cell_type": "code",
   "execution_count": 22,
   "metadata": {
    "execution": {
     "iopub.execute_input": "2023-01-03T01:21:31.718477Z",
     "iopub.status.busy": "2023-01-03T01:21:31.718029Z",
     "iopub.status.idle": "2023-01-03T01:21:32.003388Z",
     "shell.execute_reply": "2023-01-03T01:21:32.001792Z",
     "shell.execute_reply.started": "2023-01-03T01:21:31.718445Z"
    }
   },
   "outputs": [
    {
     "data": {
      "text/plain": [
       "<AxesSubplot:title={'center':'Highest BTC price'}, ylabel='Date'>"
      ]
     },
     "execution_count": 22,
     "metadata": {},
     "output_type": "execute_result"
    }
   ],
   "source": [
    "\n",
    "prr.plot(kind='barh',figsize=(12,8),title='Highest BTC price',edgecolor='black',)"
   ]
  },
  {
   "cell_type": "code",
   "execution_count": 23,
   "metadata": {
    "execution": {
     "iopub.execute_input": "2023-01-03T01:20:53.322133Z",
     "iopub.status.busy": "2023-01-03T01:20:53.320691Z",
     "iopub.status.idle": "2023-01-03T01:20:53.345157Z",
     "shell.execute_reply": "2023-01-03T01:20:53.343747Z",
     "shell.execute_reply.started": "2023-01-03T01:20:53.322089Z"
    }
   },
   "outputs": [
    {
     "data": {
      "text/html": [
       "<div>\n",
       "<style scoped>\n",
       "    .dataframe tbody tr th:only-of-type {\n",
       "        vertical-align: middle;\n",
       "    }\n",
       "\n",
       "    .dataframe tbody tr th {\n",
       "        vertical-align: top;\n",
       "    }\n",
       "\n",
       "    .dataframe thead th {\n",
       "        text-align: right;\n",
       "    }\n",
       "</style>\n",
       "<table border=\"1\" class=\"dataframe\">\n",
       "  <thead>\n",
       "    <tr style=\"text-align: right;\">\n",
       "      <th></th>\n",
       "      <th>tweets</th>\n",
       "    </tr>\n",
       "    <tr>\n",
       "      <th>Date</th>\n",
       "      <th></th>\n",
       "    </tr>\n",
       "  </thead>\n",
       "  <tbody>\n",
       "    <tr>\n",
       "      <th>2014</th>\n",
       "      <td>20175.861423</td>\n",
       "    </tr>\n",
       "    <tr>\n",
       "      <th>2015</th>\n",
       "      <td>30769.200000</td>\n",
       "    </tr>\n",
       "    <tr>\n",
       "      <th>2016</th>\n",
       "      <td>22905.688525</td>\n",
       "    </tr>\n",
       "    <tr>\n",
       "      <th>2017</th>\n",
       "      <td>47858.427397</td>\n",
       "    </tr>\n",
       "    <tr>\n",
       "      <th>2018</th>\n",
       "      <td>39311.717808</td>\n",
       "    </tr>\n",
       "    <tr>\n",
       "      <th>2019</th>\n",
       "      <td>18972.580822</td>\n",
       "    </tr>\n",
       "    <tr>\n",
       "      <th>2020</th>\n",
       "      <td>34467.956284</td>\n",
       "    </tr>\n",
       "    <tr>\n",
       "      <th>2021</th>\n",
       "      <td>114432.449315</td>\n",
       "    </tr>\n",
       "    <tr>\n",
       "      <th>2022</th>\n",
       "      <td>139156.353933</td>\n",
       "    </tr>\n",
       "  </tbody>\n",
       "</table>\n",
       "</div>"
      ],
      "text/plain": [
       "             tweets\n",
       "Date               \n",
       "2014   20175.861423\n",
       "2015   30769.200000\n",
       "2016   22905.688525\n",
       "2017   47858.427397\n",
       "2018   39311.717808\n",
       "2019   18972.580822\n",
       "2020   34467.956284\n",
       "2021  114432.449315\n",
       "2022  139156.353933"
      ]
     },
     "execution_count": 23,
     "metadata": {},
     "output_type": "execute_result"
    }
   ],
   "source": [
    "prr2=pd.pivot_table(df,index=df['Date'].dt.year,values='tweets',aggfunc='mean')\n",
    "prr2=prr2.sort_values(by='Date', ascending=True)\n",
    "prr2=prr2.head(10)\n",
    "prr2"
   ]
  },
  {
   "cell_type": "code",
   "execution_count": 24,
   "metadata": {
    "execution": {
     "iopub.execute_input": "2023-01-03T01:20:53.346896Z",
     "iopub.status.busy": "2023-01-03T01:20:53.346552Z",
     "iopub.status.idle": "2023-01-03T01:20:53.590460Z",
     "shell.execute_reply": "2023-01-03T01:20:53.589040Z",
     "shell.execute_reply.started": "2023-01-03T01:20:53.346867Z"
    }
   },
   "outputs": [
    {
     "data": {
      "text/plain": [
       "<AxesSubplot:title={'center':'Average tweets over the years'}, xlabel='Date'>"
      ]
     },
     "execution_count": 24,
     "metadata": {},
     "output_type": "execute_result"
    }
   ],
   "source": [
    "prr2.plot(kind='line',lw=2.5,figsize=(12,8),title='Average tweets over the years')"
   ]
  },
  {
   "cell_type": "code",
   "execution_count": 25,
   "metadata": {
    "execution": {
     "iopub.execute_input": "2023-01-03T01:20:53.593273Z",
     "iopub.status.busy": "2023-01-03T01:20:53.592730Z",
     "iopub.status.idle": "2023-01-03T01:20:53.615145Z",
     "shell.execute_reply": "2023-01-03T01:20:53.614011Z",
     "shell.execute_reply.started": "2023-01-03T01:20:53.593222Z"
    }
   },
   "outputs": [
    {
     "data": {
      "text/html": [
       "<div>\n",
       "<style scoped>\n",
       "    .dataframe tbody tr th:only-of-type {\n",
       "        vertical-align: middle;\n",
       "    }\n",
       "\n",
       "    .dataframe tbody tr th {\n",
       "        vertical-align: top;\n",
       "    }\n",
       "\n",
       "    .dataframe thead th {\n",
       "        text-align: right;\n",
       "    }\n",
       "</style>\n",
       "<table border=\"1\" class=\"dataframe\">\n",
       "  <thead>\n",
       "    <tr style=\"text-align: right;\">\n",
       "      <th></th>\n",
       "      <th>google_trends</th>\n",
       "    </tr>\n",
       "    <tr>\n",
       "      <th>Date</th>\n",
       "      <th></th>\n",
       "    </tr>\n",
       "  </thead>\n",
       "  <tbody>\n",
       "    <tr>\n",
       "      <th>2014</th>\n",
       "      <td>8.243431</td>\n",
       "    </tr>\n",
       "    <tr>\n",
       "      <th>2015</th>\n",
       "      <td>7.716471</td>\n",
       "    </tr>\n",
       "    <tr>\n",
       "      <th>2016</th>\n",
       "      <td>10.193303</td>\n",
       "    </tr>\n",
       "    <tr>\n",
       "      <th>2017</th>\n",
       "      <td>69.444945</td>\n",
       "    </tr>\n",
       "    <tr>\n",
       "      <th>2018</th>\n",
       "      <td>59.580964</td>\n",
       "    </tr>\n",
       "    <tr>\n",
       "      <th>2019</th>\n",
       "      <td>40.533523</td>\n",
       "    </tr>\n",
       "    <tr>\n",
       "      <th>2020</th>\n",
       "      <td>53.567874</td>\n",
       "    </tr>\n",
       "    <tr>\n",
       "      <th>2021</th>\n",
       "      <td>142.261238</td>\n",
       "    </tr>\n",
       "    <tr>\n",
       "      <th>2022</th>\n",
       "      <td>57.967025</td>\n",
       "    </tr>\n",
       "  </tbody>\n",
       "</table>\n",
       "</div>"
      ],
      "text/plain": [
       "      google_trends\n",
       "Date               \n",
       "2014       8.243431\n",
       "2015       7.716471\n",
       "2016      10.193303\n",
       "2017      69.444945\n",
       "2018      59.580964\n",
       "2019      40.533523\n",
       "2020      53.567874\n",
       "2021     142.261238\n",
       "2022      57.967025"
      ]
     },
     "execution_count": 25,
     "metadata": {},
     "output_type": "execute_result"
    }
   ],
   "source": [
    "prr3=pd.pivot_table(df,index=df['Date'].dt.year,values='google_trends',aggfunc='mean')\n",
    "prr3=prr3.sort_values(by='Date', ascending=True)\n",
    "prr3=prr3.head(16)\n",
    "prr3"
   ]
  },
  {
   "cell_type": "code",
   "execution_count": 26,
   "metadata": {
    "execution": {
     "iopub.execute_input": "2023-01-03T01:20:53.617379Z",
     "iopub.status.busy": "2023-01-03T01:20:53.616568Z",
     "iopub.status.idle": "2023-01-03T01:20:53.847120Z",
     "shell.execute_reply": "2023-01-03T01:20:53.845891Z",
     "shell.execute_reply.started": "2023-01-03T01:20:53.617343Z"
    }
   },
   "outputs": [
    {
     "data": {
      "text/plain": [
       "<AxesSubplot:title={'center':'Average Google trends over the years'}, xlabel='Date'>"
      ]
     },
     "execution_count": 26,
     "metadata": {},
     "output_type": "execute_result"
    }
   ],
   "source": [
    "prr3.plot(kind='line',lw=2.5,figsize=(12,8),title='Average Google trends over the years')"
   ]
  },
  {
   "cell_type": "code",
   "execution_count": 27,
   "metadata": {
    "execution": {
     "iopub.execute_input": "2023-01-03T01:20:53.848944Z",
     "iopub.status.busy": "2023-01-03T01:20:53.848586Z",
     "iopub.status.idle": "2023-01-03T01:20:54.067426Z",
     "shell.execute_reply": "2023-01-03T01:20:54.066408Z",
     "shell.execute_reply.started": "2023-01-03T01:20:53.848912Z"
    }
   },
   "outputs": [
    {
     "data": {
      "text/plain": [
       "<AxesSubplot:title={'center':'Average Confirmation time over the years'}, xlabel='Date'>"
      ]
     },
     "execution_count": 27,
     "metadata": {},
     "output_type": "execute_result"
    }
   ],
   "source": [
    "prr4=pd.pivot_table(df,index=df['Date'].dt.year,values='confirmationtime',aggfunc='mean')\n",
    "prr4=prr4.sort_values(by='Date', ascending=True)\n",
    "prr4=prr4.head(10)\n",
    "prr4.plot(kind='line',lw=3.5,figsize=(12,8),title='Average Confirmation time over the years')"
   ]
  },
  {
   "cell_type": "code",
   "execution_count": 28,
   "metadata": {
    "execution": {
     "iopub.execute_input": "2023-01-03T01:20:54.068740Z",
     "iopub.status.busy": "2023-01-03T01:20:54.068426Z",
     "iopub.status.idle": "2023-01-03T01:20:54.093440Z",
     "shell.execute_reply": "2023-01-03T01:20:54.092644Z",
     "shell.execute_reply.started": "2023-01-03T01:20:54.068712Z"
    }
   },
   "outputs": [
    {
     "data": {
      "text/html": [
       "<div>\n",
       "<style scoped>\n",
       "    .dataframe tbody tr th:only-of-type {\n",
       "        vertical-align: middle;\n",
       "    }\n",
       "\n",
       "    .dataframe tbody tr th {\n",
       "        vertical-align: top;\n",
       "    }\n",
       "\n",
       "    .dataframe thead th {\n",
       "        text-align: right;\n",
       "    }\n",
       "</style>\n",
       "<table border=\"1\" class=\"dataframe\">\n",
       "  <thead>\n",
       "    <tr style=\"text-align: right;\">\n",
       "      <th></th>\n",
       "      <th>Date</th>\n",
       "      <th>priceUSD</th>\n",
       "      <th>size</th>\n",
       "      <th>sentbyaddress</th>\n",
       "      <th>transactions</th>\n",
       "      <th>mining_profitability</th>\n",
       "      <th>sentinusd</th>\n",
       "      <th>transactionfees</th>\n",
       "      <th>median_transaction_fee</th>\n",
       "      <th>confirmationtime</th>\n",
       "      <th>marketcap</th>\n",
       "      <th>transactionvalue</th>\n",
       "      <th>mediantransactionvalue</th>\n",
       "      <th>tweets</th>\n",
       "      <th>google_trends</th>\n",
       "      <th>fee_to_reward</th>\n",
       "      <th>activeaddresses</th>\n",
       "      <th>top100cap</th>\n",
       "    </tr>\n",
       "  </thead>\n",
       "  <tbody>\n",
       "    <tr>\n",
       "      <th>3175</th>\n",
       "      <td>2022-12-18</td>\n",
       "      <td>16736.0</td>\n",
       "      <td>511467.0</td>\n",
       "      <td>439567</td>\n",
       "      <td>212528</td>\n",
       "      <td>0.0650</td>\n",
       "      <td>3.493454e+09</td>\n",
       "      <td>0.912</td>\n",
       "      <td>0.377</td>\n",
       "      <td>9.931</td>\n",
       "      <td>321956223728</td>\n",
       "      <td>55620.0</td>\n",
       "      <td>400.564</td>\n",
       "      <td>81518</td>\n",
       "      <td>15.485</td>\n",
       "      <td>1.263</td>\n",
       "      <td>691511</td>\n",
       "      <td>14.731</td>\n",
       "    </tr>\n",
       "    <tr>\n",
       "      <th>3176</th>\n",
       "      <td>2022-12-19</td>\n",
       "      <td>16679.0</td>\n",
       "      <td>706111.0</td>\n",
       "      <td>484919</td>\n",
       "      <td>258960</td>\n",
       "      <td>0.0569</td>\n",
       "      <td>6.191116e+09</td>\n",
       "      <td>1.164</td>\n",
       "      <td>0.450</td>\n",
       "      <td>10.588</td>\n",
       "      <td>320876529094</td>\n",
       "      <td>67503.0</td>\n",
       "      <td>447.028</td>\n",
       "      <td>100038</td>\n",
       "      <td>17.697</td>\n",
       "      <td>2.083</td>\n",
       "      <td>804421</td>\n",
       "      <td>14.672</td>\n",
       "    </tr>\n",
       "    <tr>\n",
       "      <th>3177</th>\n",
       "      <td>2022-12-20</td>\n",
       "      <td>16788.0</td>\n",
       "      <td>665567.0</td>\n",
       "      <td>510455</td>\n",
       "      <td>268753</td>\n",
       "      <td>0.0630</td>\n",
       "      <td>6.787239e+09</td>\n",
       "      <td>1.128</td>\n",
       "      <td>0.470</td>\n",
       "      <td>10.286</td>\n",
       "      <td>322974092809</td>\n",
       "      <td>61942.0</td>\n",
       "      <td>449.510</td>\n",
       "      <td>90756</td>\n",
       "      <td>18.329</td>\n",
       "      <td>2.022</td>\n",
       "      <td>815486</td>\n",
       "      <td>14.681</td>\n",
       "    </tr>\n",
       "    <tr>\n",
       "      <th>3178</th>\n",
       "      <td>2022-12-21</td>\n",
       "      <td>16830.0</td>\n",
       "      <td>653348.0</td>\n",
       "      <td>515872</td>\n",
       "      <td>272348</td>\n",
       "      <td>0.0620</td>\n",
       "      <td>6.851055e+09</td>\n",
       "      <td>1.021</td>\n",
       "      <td>0.418</td>\n",
       "      <td>10.070</td>\n",
       "      <td>323809163721</td>\n",
       "      <td>53386.0</td>\n",
       "      <td>434.257</td>\n",
       "      <td>88992</td>\n",
       "      <td>18.329</td>\n",
       "      <td>1.817</td>\n",
       "      <td>782726</td>\n",
       "      <td>14.673</td>\n",
       "    </tr>\n",
       "    <tr>\n",
       "      <th>3179</th>\n",
       "      <td>2022-12-22</td>\n",
       "      <td>16779.0</td>\n",
       "      <td>676142.0</td>\n",
       "      <td>526770</td>\n",
       "      <td>271046</td>\n",
       "      <td>0.0596</td>\n",
       "      <td>5.924482e+09</td>\n",
       "      <td>1.061</td>\n",
       "      <td>0.442</td>\n",
       "      <td>10.667</td>\n",
       "      <td>322835455577</td>\n",
       "      <td>50808.0</td>\n",
       "      <td>453.449</td>\n",
       "      <td>88226</td>\n",
       "      <td>18.329</td>\n",
       "      <td>1.992</td>\n",
       "      <td>789264</td>\n",
       "      <td>14.687</td>\n",
       "    </tr>\n",
       "  </tbody>\n",
       "</table>\n",
       "</div>"
      ],
      "text/plain": [
       "           Date  priceUSD      size  sentbyaddress  transactions  \\\n",
       "3175 2022-12-18   16736.0  511467.0         439567        212528   \n",
       "3176 2022-12-19   16679.0  706111.0         484919        258960   \n",
       "3177 2022-12-20   16788.0  665567.0         510455        268753   \n",
       "3178 2022-12-21   16830.0  653348.0         515872        272348   \n",
       "3179 2022-12-22   16779.0  676142.0         526770        271046   \n",
       "\n",
       "      mining_profitability     sentinusd  transactionfees  \\\n",
       "3175                0.0650  3.493454e+09            0.912   \n",
       "3176                0.0569  6.191116e+09            1.164   \n",
       "3177                0.0630  6.787239e+09            1.128   \n",
       "3178                0.0620  6.851055e+09            1.021   \n",
       "3179                0.0596  5.924482e+09            1.061   \n",
       "\n",
       "      median_transaction_fee  confirmationtime     marketcap  \\\n",
       "3175                   0.377             9.931  321956223728   \n",
       "3176                   0.450            10.588  320876529094   \n",
       "3177                   0.470            10.286  322974092809   \n",
       "3178                   0.418            10.070  323809163721   \n",
       "3179                   0.442            10.667  322835455577   \n",
       "\n",
       "      transactionvalue  mediantransactionvalue  tweets  google_trends  \\\n",
       "3175           55620.0                 400.564   81518         15.485   \n",
       "3176           67503.0                 447.028  100038         17.697   \n",
       "3177           61942.0                 449.510   90756         18.329   \n",
       "3178           53386.0                 434.257   88992         18.329   \n",
       "3179           50808.0                 453.449   88226         18.329   \n",
       "\n",
       "      fee_to_reward  activeaddresses  top100cap  \n",
       "3175          1.263           691511     14.731  \n",
       "3176          2.083           804421     14.672  \n",
       "3177          2.022           815486     14.681  \n",
       "3178          1.817           782726     14.673  \n",
       "3179          1.992           789264     14.687  "
      ]
     },
     "execution_count": 28,
     "metadata": {},
     "output_type": "execute_result"
    }
   ],
   "source": [
    "df.tail()"
   ]
  }
 ],
 "metadata": {
  "kernelspec": {
   "display_name": "Python 3 (ipykernel)",
   "language": "python",
   "name": "python3"
  },
  "language_info": {
   "codemirror_mode": {
    "name": "ipython",
    "version": 3
   },
   "file_extension": ".py",
   "mimetype": "text/x-python",
   "name": "python",
   "nbconvert_exporter": "python",
   "pygments_lexer": "ipython3",
   "version": "3.9.13"
  }
 },
 "nbformat": 4,
 "nbformat_minor": 4
}
